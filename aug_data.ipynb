{
 "metadata": {
  "language_info": {
   "codemirror_mode": {
    "name": "ipython",
    "version": 3
   },
   "file_extension": ".py",
   "mimetype": "text/x-python",
   "name": "python",
   "nbconvert_exporter": "python",
   "pygments_lexer": "ipython3",
   "version": "3.8.3"
  },
  "orig_nbformat": 2,
  "kernelspec": {
   "name": "python383jvsc74a57bd02db524e06e9f5f4ffedc911c917cb75e12dbc923643829bf417064a77eb14d37",
   "display_name": "Python 3.8.3 64-bit"
  },
  "metadata": {
   "interpreter": {
    "hash": "2db524e06e9f5f4ffedc911c917cb75e12dbc923643829bf417064a77eb14d37"
   }
  }
 },
 "nbformat": 4,
 "nbformat_minor": 2,
 "cells": [
  {
   "cell_type": "code",
   "execution_count": 2,
   "metadata": {},
   "outputs": [],
   "source": [
    "\"\"\"\n",
    "Нужно подготовить код для обработки всех фото в датасете с сохранением разметки.\n",
    "То есть, мы сохраняем новый файл фото с новым именем и пересохраняем разметку с таким же именем.\n",
    "\"\"\"\n",
    "from augmentation_instruments import pic_augmentation as aug\n",
    "from augmentation_instruments import showImage, saveImage\n",
    "\n",
    "import glob\n",
    "import os\n",
    "import random\n",
    "import shutil\n",
    "from functools import partial\n",
    "from progress.bar import IncrementalBar"
   ]
  },
  {
   "cell_type": "code",
   "execution_count": 2,
   "metadata": {},
   "outputs": [],
   "source": [
    "#открываем папку с относительным путём\n",
    "path = \"pics\"\n",
    "all_files = glob.glob(os.path.join(path,\"*.jpg\"))\n",
    "#для каждого изображения в папке\n",
    "#применяем каждый из фильтров и сохраняем изображения каждого из фильтров в отдельную папку\n",
    "#вместе с фото переименовываем и переносим файл с разметкой в папку с дополненными данными"
   ]
  },
  {
   "cell_type": "code",
   "execution_count": 3,
   "metadata": {},
   "outputs": [],
   "source": [
    "def get_img_data(img_path):\n",
    "    file_root, file_name = os.path.split(img_path)\n",
    "    img_name, img_ext = os.path.splitext(file_name)\n",
    "    return file_root, img_name, img_ext"
   ]
  },
  {
   "cell_type": "code",
   "execution_count": 4,
   "metadata": {},
   "outputs": [],
   "source": [
    "def isPath(path):\n",
    "    if not os.path.exists(path):\n",
    "        os.mkdir(path)"
   ]
  },
  {
   "cell_type": "code",
   "execution_count": 9,
   "metadata": {},
   "outputs": [],
   "source": [
    "def apply_augmentation(img_path, aug_type):\n",
    "    \"\"\"\n",
    "    Применить аугментацию к изображению, если тип аугментации доступен\n",
    "    и если есть файл *.txt с разметкой\n",
    "\n",
    "    @img_path: относительный путь к изображению\n",
    "    @aug_type: тип аугментации из числа \"deblur\", \"gaus_blur\", \"sp_noise\", \"brightness\", \"contrast\"\n",
    "    \"\"\"\n",
    "    image = aug(img_path)\n",
    "\n",
    "    img_root, image_name, _ = get_img_data(img_path)\n",
    "\n",
    "    brightness_level = random.choice([-127, -64, 64, 127])\n",
    "    contrast_level = random.choice([-64, 64])\n",
    "    mask_size_level = random.choice([7,9,11,13])\n",
    "    sp_noise_level = random.uniform(0.04,0.13)\n",
    "\n",
    "    augmentation = {\"deblur\":partial(image.deblurring), \n",
    "                    \"gaus_blur\":partial(image.gaussian_blurring, mask_size=mask_size_level), \n",
    "                    \"sp_noise\":partial(image.sp_noise, sp_noise_level), \n",
    "                    \"brightness\":partial(image.apply_brightness_contrast, brightness=brightness_level), \n",
    "                    \"contrast\":partial(image.apply_brightness_contrast, contrast=contrast_level)}     \n",
    "    \n",
    "    augmented_image = augmentation[aug_type]()\n",
    "\n",
    "    isPath(os.path.join(img_root,aug_type))\n",
    "    # showImage(augmented_image)\n",
    "\n",
    "    saveImage(augmented_image,\n",
    "                os.path.join(img_root,aug_type),\n",
    "                image_name,\n",
    "                suffix=\"_\"+aug_type)\n",
    "\n",
    "    # пересохранить файл разметки с новым именем в папку к изображению\n",
    "    shutil.copy(os.path.join(img_root,image_name)+\".txt\",\n",
    "                os.path.join(img_root,aug_type,image_name)+\"_\"+aug_type+\".txt\")\n",
    "\n",
    "# apply_augmentation(all_files[0], \"deblurring\")\n",
    "# print(\"-------------\")\n",
    "# apply_augmentation(all_files[1], \"gaussian_blurring\")\n",
    "# print(\"-------------\")\n",
    "# apply_augmentation(all_files[1], \"sp_noise\")\n",
    "# print(\"-------------\")\n",
    "# apply_augmentation(all_files[1], \"brightness\")\n",
    "# print(\"-------------\")\n",
    "# apply_augmentation(all_files[1], \"contrast\")\n",
    "\n"
   ]
  },
  {
   "cell_type": "code",
   "execution_count": 10,
   "metadata": {},
   "outputs": [
    {
     "output_type": "stream",
     "name": "stdout",
     "text": [
      "No labels for the picture '000006.jpg'\nNo labels for the picture '000007.jpg'\nNo labels for the picture '000008.jpg'\nNo labels for the picture '000009.jpg'\nNo labels for the picture '000010.jpg'\n"
     ]
    }
   ],
   "source": [
    "bar = IncrementalBar('Augmentation', max = len(all_files))\n",
    "\n",
    "augmentation_types = {0:\"deblur\", 1:\"gaus_blur\", 2:\"sp_noise\", 3:\"brightness\", 4:\"contrast\"}\n",
    "\n",
    "for img in all_files:\n",
    "    # проверка на наличие разметки в данных\n",
    "    img_root, image_name, _ = get_img_data(img)\n",
    "    if os.path.exists(os.path.join(img_root,image_name)+\".txt\"): \n",
    "        # аугментация всех видов из списка\n",
    "        for aug_type in augmentation_types.values():\n",
    "            apply_augmentation(img, aug_type)\n",
    "    else:\n",
    "        print(\"No labels for the picture '\"+image_name+\".jpg'\")"
   ]
  },
  {
   "cell_type": "code",
   "execution_count": null,
   "metadata": {},
   "outputs": [],
   "source": []
  }
 ]
}